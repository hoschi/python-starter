{
 "cells": [
  {
   "cell_type": "markdown",
   "metadata": {},
   "source": [
    "# Core Concepts: The \"Must-Knows\""
   ]
  },
  {
   "cell_type": "markdown",
   "metadata": {},
   "source": [
    "This notebook is the **\"required reading\"** for working with this blueprint. It covers the three fundamental pillars that ensure our code is robust, maintainable, and type-safe.\n",
    "\n",
    "1.  **Error Handling with `returns.Result`**: How and why we handle errors explicitly.\n",
    "2.  **Data Validation with `Pydantic`**: Its role as a \"Boundary Guard\".\n",
    "3.  **Functional Pipelines with `toolz.pipe`**: How to build clean data transformations.\n",
    "\n",
    "Every code cell is a **self-verifying example**. It ends with `assert` statements. If a cell runs without error, the example is proven to be correct."
   ]
  },
  {
   "cell_type": "markdown",
   "metadata": {},
   "source": [
    "## 1. Error Handling: \"Railway Oriented Programming\" with `returns.Result`"
   ]
  },
  {
   "cell_type": "markdown",
   "metadata": {},
   "source": [
    "**Best Practice:** Instead of raising exceptions for predictable errors (like \"user not found\" or \"invalid input\"), we return a `Result` type. A `Result` can be either a `Success` (containing the value) or a `Failure` (containing the error).\n",
    "\n",
    "**Why?** This makes error handling **explicit**. The type signature of a function tells you that it can fail, and the type checker forces you to handle the failure case. This prevents entire classes of bugs where exceptions are forgotten or caught too broadly."
   ]
  },
  {
   "cell_type": "code",
   "execution_count": null,
   "metadata": {},
   "outputs": [],
   "source": [
    "from returns.result import Result, Success, Failure, safe\n",
    "\n",
    "def might_fail(is_success: bool) -> Result[str, str]:\n",
    "    \"\"\"A function that returns a Success or Failure based on input.\"\"\"\n",
    "    if is_success:\n",
    "        return Success(\"Everything worked!\")\n",
    "    return Failure(\"An error occurred.\")\n",
    "\n",
    "# --- Verification ---\n",
    "success_result = might_fail(True)\n",
    "assert isinstance(success_result, Success)\n",
    "assert success_result.unwrap() == \"Everything worked!\"\n",
    "\n",
    "failure_result = might_fail(False)\n",
    "assert isinstance(failure_result, Failure)\n",
    "assert \"error\" in str(failure_result.failure())\n",
    "\n",
    "print(\"✅ `Result` type works as expected.\")"
   ]
  },
  {
   "cell_type": "markdown",
   "metadata": {},
   "source": [
    "### Code Smell vs. Best Practice\n",
    "\n",
    "Let's compare the `Result` approach to a traditional `try...except` block for business logic."
   ]
  },
  {
   "cell_type": "code",
   "execution_count": null,
   "metadata": {},
   "outputs": [],
   "source": [
    "# Code Smell: Using exceptions for predictable control flow\n",
    "def parse_number_exception(raw: str) -> int:\n",
    "    \"\"\"This function is not honest about its potential for failure.\"\"\"\n",
    "    return int(raw)\n",
    "\n",
    "try:\n",
    "    result = parse_number_exception(\"123\")\n",
    "    assert result == 123\n",
    "except ValueError:\n",
    "    assert False, \"A valid number should not raise an error\"\n",
    "\n",
    "try:\n",
    "    parse_number_exception(\"abc\")\n",
    "    assert False, \"An invalid number should have raised an error\"\n",
    "except ValueError:\n",
    "    # The error was expected and handled\n",
    "    pass\n",
    "\n",
    "print(\"✅ Exception approach works, but it's not explicit.\")"
   ]
  },
  {
   "cell_type": "code",
   "execution_count": null,
   "metadata": {},
   "outputs": [],
   "source": [
    "# Best Practice: Using `Result` to make failure an explicit return type\n",
    "# The `@safe` decorator automatically wraps a function that can raise exceptions.\n",
    "@safe\n",
    "def parse_number_result(raw: str) -> int:\n",
    "    \"\"\"The type signature `-> Result[int, Exception]` would be more explicit, \n",
    "       but `@safe` infers it. The function is now honest about its potential for failure.\"\"\"\n",
    "    return int(raw)\n",
    "\n",
    "success_parse = parse_number_result(\"456\")\n",
    "assert isinstance(success_parse, Success)\n",
    "assert success_parse.unwrap() == 456\n",
    "\n",
    "failure_parse = parse_number_result(\"def\")\n",
    "assert isinstance(failure_parse, Failure)\n",
    "assert isinstance(failure_parse.failure(), ValueError)\n",
    "\n",
    "print(\"✅ `Result` approach is explicit and type-safe.\")"
   ]
  },
  {
   "cell_type": "markdown",
   "metadata": {},
   "source": [
    "## 2. Data Validation: `Pydantic` as a Boundary Guard"
   ]
  },
  {
   "cell_type": "markdown",
   "metadata": {},
   "source": [
    "**Best Practice:** We use `Pydantic` models to validate **all** data that crosses the boundaries of our application. This includes API requests, database query results, and user input. Inside our application's core logic, we can then trust that the data has the correct shape and type.\n",
    "\n",
    "**Why?** This prevents the \"Primitive Obsession\" code smell, where raw dictionaries and strings are passed deep into the application, leading to runtime errors and hard-to-debug issues. Pydantic acts as a protective wall."
   ]
  },
  {
   "cell_type": "code",
   "execution_count": null,
   "metadata": {},
   "outputs": [],
   "source": [
    "from pydantic import BaseModel, ValidationError, Field\n",
    "from typing import Annotated\n",
    "\n",
    "# Best Practice: Using `Annotated` to separate type from metadata\n",
    "class User(BaseModel):\n",
    "    id: int\n",
    "    name: Annotated[str, Field(min_length=2)]\n",
    "\n",
    "# --- Verification of a valid case ---\n",
    "valid_data = {\"id\": 1, \"name\": \"Alice\"}\n",
    "user_instance = User.model_validate(valid_data)\n",
    "assert user_instance.id == 1\n",
    "assert user_instance.name == \"Alice\"\n",
    "\n",
    "# --- Verification of invalid cases ---\n",
    "invalid_data_short_name = {\"id\": 2, \"name\": \"A\"}\n",
    "try:\n",
    "    User.model_validate(invalid_data_short_name)\n",
    "    assert False, \"ValidationError was not raised for short name\"\n",
    "except ValidationError as e:\n",
    "    assert \"at least 2 characters\" in str(e)\n",
    "\n",
    "invalid_data_wrong_type = {\"id\": \"three\", \"name\": \"Bob\"}\n",
    "try:\n",
    "    User.model_validate(invalid_data_wrong_type)\n",
    "    assert False, \"ValidationError was not raised for wrong type\"\n",
    "except ValidationError as e:\n",
    "    assert \"Input should be a valid integer\" in str(e)\n",
    "\n",
    "print(\"✅ Pydantic models correctly validate data at the boundary.\")"
   ]
  },
  {
   "cell_type": "markdown",
   "metadata": {},
   "source": [
    