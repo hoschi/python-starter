{
 "cells": [
  {
   "cell_type": "markdown",
   "metadata": {},
   "source": [
    "# Architecture & Design Patterns"
   ]
  },
  {
   "cell_type": "markdown",
   "metadata": {},
   "source": [
    "Good software architecture is about making your code easy to understand, change, and test. This notebook covers the key architectural patterns used in this blueprint to achieve loose coupling, robustness, and maintainability."
   ]
  },
  {
   "cell_type": "markdown",
   "metadata": {},
   "source": [
    "## 1. Dependency Inversion with `typing.Protocol`"
   ]
  },
  {
   "cell_type": "markdown",
   "metadata": {},
   "source": [
    "**The Problem:** Your core business logic becomes tightly coupled to external systems like databases, APIs, or file systems. If your `user_service` directly imports and uses a `PostgresClient`, it's impossible to test the service without a real database, and switching to a different database becomes a major refactoring effort.\n",
    "\n",
    "**The Solution:** We use `typing.Protocol` to invert the dependency. Instead of depending on a *concrete* class, our service depends on an *abstract interface* (the protocol). Any class that has the methods and signatures defined in the protocol can be used, without needing to inherit from it. This is also known as \"Static Duck Typing\".\n",
    "\n",
    "This allows us to easily swap implementations, for example, using a real database client in production and a simple mock object in our tests."
   ]
  },
  {
   "cell_type": "code",
   "execution_count": null,
   "metadata": {},
   "outputs": [],
   "source": [
    "from typing import Protocol, TypeVar\n",
    "\n",
    "from returns.result import Failure, Result, Success\n",
    "\n",
    "# --- 1. Define the Abstract Contract ---\n",
    "KeyType = TypeVar(\"KeyType\")\n",
    "ReturnType = TypeVar(\"ReturnType\")\n",
    "\n",
    "\n",
    "class Fetcher(Protocol[KeyType, ReturnType]):\n",
    "    \"\"\"A generic contract for any object that can fetch data by a key.\"\"\"\n",
    "\n",
    "    def fetch_by_id(self, key: KeyType) -> ReturnType | None: ...\n",
    "\n",
    "\n",
    "# --- 2. Define our business model and logic ---\n",
    "class User:\n",
    "    def __init__(self, name: str):\n",
    "        self.name = name\n",
    "\n",
    "\n",
    "# This service depends on the ABSTRACT Fetcher, not a concrete one.\n",
    "def get_user_name(user_fetcher: Fetcher[int, User], user_id: int) -> Result[str, str]:\n",
    "    maybe_user = user_fetcher.fetch_by_id(user_id)\n",
    "    if maybe_user is None:\n",
    "        return Failure(f\"User {user_id} not found.\")\n",
    "    return Success(maybe_user.name)\n",
    "\n",
    "\n",
    "# --- 3. Create Concrete Implementations ---\n",
    "\n",
    "\n",
    "# A mock implementation for testing. It fulfills the Fetcher protocol.\n",
    "class MockUserFetcher:\n",
    "    def fetch_by_id(self, key: int) -> User | None:\n",
    "        if key == 1:\n",
    "            return User(name=\"Mock Alice\")\n",
    "        return None\n",
    "\n",
    "\n",
    "# A \"real\" implementation. It also fulfills the protocol.\n",
    "class RealDatabaseFetcher:\n",
    "    def fetch_by_id(self, key: int) -> User | None:\n",
    "        # In a real app, this would connect to a DB.\n",
    "        print(f\"\\n(Connecting to DB to fetch user {key}...)\")\n",
    "        db_data = {1: \"Real Bob\", 2: \"Real Charlie\"}\n",
    "        name = db_data.get(key)\n",
    "        return User(name=name) if name else None\n",
    "\n",
    "\n",
    "# --- Verification ---\n",
    "mock_fetcher = MockUserFetcher()\n",
    "real_fetcher = RealDatabaseFetcher()\n",
    "\n",
    "# The SAME service function works with the MOCK fetcher:\n",
    "mock_result = get_user_name(mock_fetcher, 1)\n",
    "assert mock_result.unwrap() == \"Mock Alice\"\n",
    "print(\"✅ Service function works correctly with the mock fetcher.\")\n",
    "\n",
    "# The SAME service function works with the REAL fetcher:\n",
    "real_result = get_user_name(real_fetcher, 2)\n",
    "assert real_result.unwrap() == \"Real Charlie\"\n",
    "print(\"✅ Service function works correctly with the real fetcher.\")\n",
    "\n",
    "# The function also handles failures from any fetcher:\n",
    "not_found_result = get_user_name(real_fetcher, 99)\n",
    "assert isinstance(not_found_result, Failure)\n",
    "print(\"✅ Service function handles failures correctly.\")"
   ]
  },
  {
   "cell_type": "markdown",
   "metadata": {},
   "source": [
    "## 2. Exhaustive Checks with Pattern Matching"
   ]
  },
  {
   "cell_type": "markdown",
   "metadata": {},
   "source": [
    "**The Problem:** When you have a function that accepts a `Union` of different types, you often use `if/isinstance` checks to handle each type. It's easy to forget to handle a new type if the `Union` is ever expanded, leading to runtime errors.\n",
    "\n",
    "**The Solution:** Python's `match/case` statement (PEP 634) is a powerful tool for structural pattern matching. When used with a strict type checker like `BasedPyright`, it can perform **exhaustiveness checking**. If you have a `Union[A, B]` and only write a `case` for `A`, the type checker will raise an error, forcing you to handle all possible types.\n",
    "\n",
    "**Caveat:** As noted in the project setup, mypy's plugin for the `returns` library currently has a bug that can lead to false positives when pattern matching on `Result`. For this reason, we recommend using pattern matching primarily on your own `Union` types or Pydantic models, and using `.map`/`.lash` for `Result`."
   ]
  },
  {
   "cell_type": "code",
   "execution_count": null,
   "metadata": {},
   "outputs": [],
   "source": [
    "class Circle:\n",
    "    def __init__(self, radius: float):\n",
    "        self.radius = radius\n",
    "\n",
    "\n",
    "class Rectangle:\n",
    "    def __init__(self, width: float, height: float):\n",
    "        self.width = width\n",
    "        self.height = height\n",
    "\n",
    "\n",
    "Shape = Circle | Rectangle\n",
    "\n",
    "\n",
    "def get_area(shape: Shape) -> float:\n",
    "    match shape:\n",
    "        case Circle(radius=r):\n",
    "            # Inside this block, the type checker KNOWS `shape` is a Circle.\n",
    "            return 3.14 * r * r\n",
    "        case Rectangle(width=w, height=h):\n",
    "            # And here, it KNOWS `shape` is a Rectangle.\n",
    "            return w * h\n",
    "\n",
    "    # If we added a `Square` to the `Shape` Union but forgot to add a `case` here,\n",
    "    # a strict type checker would raise an error, saving us from a runtime bug.\n",
    "\n",
    "\n",
    "# --- Verification ---\n",
    "circle = Circle(10)\n",
    "rectangle = Rectangle(5, 10)\n",
    "\n",
    "assert get_area(circle) == 314.0\n",
    "assert get_area(rectangle) == 50.0\n",
    "print(\"✅ Pattern matching correctly calculates area for all shapes.\")"
   ]
  },
  {
   "cell_type": "markdown",
   "metadata": {},
   "source": [
    "## 3. Best Practices for Decorators"
   ]
  },
  {
   "cell_type": "markdown",
   "metadata": {},
   "source": [
    "**The Problem:** Decorators are a powerful feature, but a naive implementation can have unintended side effects: the decorated function loses its original name and docstring, and type hints for the arguments and return value are broken.\n",
    "\n",
    "**The Solution:** We use `functools.wraps` to preserve the original function's metadata and `typing.ParamSpec` and `typing.TypeVar` to correctly type the decorator, preserving the original function's signature."
   ]
  },
  {
   "cell_type": "code",
   "execution_count": null,
   "metadata": {},
   "outputs": [],
   "source": [
    "import functools\n",
    "import time\n",
    "from collections.abc import Callable\n",
    "from typing import ParamSpec, TypeVar\n",
    "\n",
    "P = ParamSpec(\"P\")\n",
    "T = TypeVar(\"T\")\n",
    "\n",
    "\n",
    "def timing_decorator[P, T](func: Callable[P, T]) -> Callable[P, T]:\n",
    "    \"\"\"A well-behaved decorator that logs function execution time.\"\"\"\n",
    "\n",
    "    @functools.wraps(func)  # <-- Preserves metadata like __name__ and __doc__\n",
    "    def wrapper(*args: P.args, **kwargs: P.kwargs) -> T:\n",
    "        start_time = time.perf_counter()\n",
    "        value = func(*args, **kwargs)\n",
    "        end_time = time.perf_counter()\n",
    "        run_time = end_time - start_time\n",
    "        print(f\"Finished {func.__name__!r} in {run_time:.4f} secs\")\n",
    "        return value\n",
    "\n",
    "    return wrapper\n",
    "\n",
    "\n",
    "@timing_decorator\n",
    "def example_function(name: str) -> str:\n",
    "    \"\"\"This is a simple example function.\"\"\"\n",
    "    time.sleep(0.01)\n",
    "    return f\"Hello, {name}\"\n",
    "\n",
    "\n",
    "# --- Verification ---\n",
    "result = example_function(\"World\")\n",
    "\n",
    "# 1. Verify the function still works\n",
    "assert result == \"Hello, World\"\n",
    "\n",
    "# 2. Verify metadata is preserved thanks to @wraps\n",
    "assert example_function.__name__ == \"example_function\"\n",
    "assert \"simple example function\" in example_function.__doc__\n",
    "\n",
    "print(\"✅ Decorator works and preserves function metadata.\")"
   ]
  }
 ],
 "metadata": {
  "kernelspec": {
   "display_name": "Python 3",
   "language": "python",
   "name": "python3"
  },
  "language_info": {
   "name": "python",
   "version": "3.12.0"
  }
 },
 "nbformat": 4,
 "nbformat_minor": 2
}
