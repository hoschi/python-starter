{
 "cells": [
  {
   "cell_type": "markdown",
   "metadata": {},
   "source": [
    "# Data Structures: Choosing the Right Tool"
   ]
  },
  {
   "cell_type": "markdown",
   "metadata": {},
   "source": [
    "Choosing the right data structure is a critical design decision. Python offers a wide array of tools, from simple tuples to powerful libraries. This notebook explores the trade-offs between different options, helping you select the best tool for the job based on requirements for mutability, performance, and type safety."
   ]
  },
  {
   "cell_type": "markdown",
   "metadata": {},
   "source": [
    "## 1. Lightweight Data Structures"
   ]
  },
  {
   "cell_type": "markdown",
   "metadata": {},
   "source": [
    "For many use cases, you don't need the overhead of a full class. Python's standard library provides several excellent options for creating simple, structured data containers."
   ]
  },
  {
   "cell_type": "code",
   "execution_count": 1,
   "metadata": {},
   "outputs": [
    {
     "name": "stdout",
     "output_type": "stream",
     "text": [
      "✅ NamedTuple is immutable.\n",
      "✅ Frozen dataclass is immutable.\n",
      "✅ TypedDict is mutable at runtime.\n"
     ]
    }
   ],
   "source": [
    "from dataclasses import FrozenInstanceError, dataclass\n",
    "from typing import NamedTuple, TypedDict\n",
    "\n",
    "\n",
    "# Option 1: NamedTuple - Lightweight and immutable, but verbose\n",
    "class PointNT(NamedTuple):\n",
    "    x: int\n",
    "    y: int\n",
    "\n",
    "\n",
    "# Option 2: frozen dataclass - More features, still immutable\n",
    "@dataclass(frozen=True)\n",
    "class PointDC:\n",
    "    x: int\n",
    "    y: int\n",
    "\n",
    "\n",
    "# Option 3: TypedDict - A dictionary with a fixed set of keys and value types\n",
    "# It's just a type hint; at runtime, it's a regular dict.\n",
    "class PointTD(TypedDict):\n",
    "    x: int\n",
    "    y: int\n",
    "\n",
    "\n",
    "# --- Verification ---\n",
    "p_nt = PointNT(1, 2)\n",
    "p_dc = PointDC(1, 2)\n",
    "p_td: PointTD = {\"x\": 1, \"y\": 2}\n",
    "\n",
    "# Accessing data\n",
    "assert p_nt.x == p_dc.x == p_td[\"x\"] == 1\n",
    "\n",
    "# Immutability check\n",
    "raised_exception = None\n",
    "try:\n",
    "    p_nt.x = 3\n",
    "except AttributeError as e:\n",
    "    raised_exception = e\n",
    "assert raised_exception is not None\n",
    "print(\"✅ NamedTuple is immutable.\")\n",
    "\n",
    "raised_exception = None\n",
    "try:\n",
    "    p_dc.x = 3\n",
    "except FrozenInstanceError as e:\n",
    "    raised_exception = e\n",
    "assert raised_exception is not None\n",
    "print(\"✅ Frozen dataclass is immutable.\")\n",
    "\n",
    "# TypedDict is just a regular dict at runtime, so it IS mutable.\n",
    "p_td[\"x\"] = 3\n",
    "assert p_td[\"x\"] == 3\n",
    "print(\"✅ TypedDict is mutable at runtime.\")"
   ]
  },
  {
   "cell_type": "markdown",
   "metadata": {},
   "source": [
    "| Feature | `NamedTuple` | `frozen dataclass` | `TypedDict` |\n",
    "| :--- | :--- | :--- | :--- |\n",
    "| **Mutability** | Immutable | Immutable | **Mutable** |\n",
    "| **Runtime Object**| `tuple` subclass | `object` | `dict` |\n",
    "| **Best For** | Simple, tuple-like value objects | Classes that shouldn't change after creation| Describing the shape of dictionaries (e.g., JSON data) |"
   ]
  },
  {
   "cell_type": "markdown",
   "metadata": {},
   "source": [
    "## 2. Guaranteed & Performant Immutability with `pyrsistent`"
   ]
  },
  {
   "cell_type": "markdown",
   "metadata": {},
   "source": [
    "**The Problem:** Even a `frozen dataclass` isn't truly immutable if it contains mutable structures like a `list`. A developer could accidentally mutate the list inside the dataclass, leading to hard-to-find bugs. Furthermore, comparing large, nested dictionaries for equality can be slow, and standard dictionaries cannot be used as keys in other dictionaries or sets because they are not hashable.\n",
    "\n",
    "**The Solution:** We use `pyrsistent` for **guaranteed, efficient immutability**. It provides persistent data structures (`PMap` for dicts, `PVector` for lists). Any \"update\" to a `pyrsistent` object returns a new object, leaving the original untouched. \n",
    "\n",
    "### Key Use Case: Performant Equality Checks & Hashing\n",
    "\n",
    "Thanks to a technique called **structural sharing**, `pyrsistent` is highly memory-efficient. When you \"change\" a value, it creates a new object but reuses all the unchanged parts of the old object. This also means that its hash is calculated very efficiently, based on the hashes of its contents.\n",
    "\n",
    "This makes `pyrsistent` the ideal choice for:\n",
    "1.  **Complex, long-lived state management** (e.g., the state of an application or an AI agent).\n",
    "2.  **Using complex data as dictionary keys** (e.g., for caching/memoization).\n",
    "3.  **Performant comparisons of large, nested data structures.** Comparing two `PMap`s is often much faster than deep-comparing two large standard `dict`s."
   ]
  },
  {
   "cell_type": "code",
   "execution_count": 2,
   "metadata": {},
   "outputs": [
    {
     "name": "stdout",
     "output_type": "stream",
     "text": [
      "✅ `pmap.set` creates a new object, leaving the original untouched.\n",
      "✅ Unchanged parts of the structure are shared in memory.\n",
      "✅ Equal PMaps have equal hashes.\n",
      "✅ Unequal PMaps have unequal hashes.\n",
      "✅ PMaps can be used as dictionary keys.\n",
      "✅ Standard dicts are correctly identified as unhashable.\n"
     ]
    }
   ],
   "source": [
    "from pyrsistent import pmap\n",
    "\n",
    "# --- Verification of Immutability ---\n",
    "initial_state = pmap(\n",
    "    {\"user\": \"Alice\", \"settings\": {\"theme\": \"dark\", \"notifications\": True}}\n",
    ")\n",
    "\n",
    "# `.set()` returns a NEW PMap instance\n",
    "new_state = initial_state.set(\"user\", \"Bob\")\n",
    "\n",
    "assert initial_state is not new_state\n",
    "assert initial_state[\"user\"] == \"Alice\"\n",
    "assert new_state[\"user\"] == \"Bob\"\n",
    "print(\"✅ `pmap.set` creates a new object, leaving the original untouched.\")\n",
    "\n",
    "# Structural sharing: the nested 'settings' pmap is shared between versions\n",
    "assert initial_state[\"settings\"] is new_state[\"settings\"]\n",
    "print(\"✅ Unchanged parts of the structure are shared in memory.\")\n",
    "\n",
    "# --- Verification of Hashing ---\n",
    "state1 = pmap({\"a\": 1, \"b\": 2})\n",
    "state2 = pmap({\"a\": 1, \"b\": 2})\n",
    "state3 = pmap({\"a\": 1, \"b\": 99})\n",
    "\n",
    "# PMaps with the same content have the same hash\n",
    "assert state1 == state2\n",
    "assert hash(state1) == hash(state2)\n",
    "print(\"✅ Equal PMaps have equal hashes.\")\n",
    "\n",
    "# PMaps with different content have different hashes\n",
    "assert state1 != state3\n",
    "assert hash(state1) != hash(state3)\n",
    "print(\"✅ Unequal PMaps have unequal hashes.\")\n",
    "\n",
    "# This allows them to be used as dictionary keys\n",
    "cache = {state1: \"Cached Value\"}\n",
    "assert cache[state2] == \"Cached Value\"  # Can look up with an equal PMap\n",
    "print(\"✅ PMaps can be used as dictionary keys.\")\n",
    "\n",
    "# A standard dict cannot do this\n",
    "raised_exception = None\n",
    "try:\n",
    "    d = {1: \"a\"}\n",
    "    other_cache = {d: \"Broken\"}\n",
    "except TypeError as e:\n",
    "    raised_exception = e\n",
    "\n",
    "assert raised_exception is not None\n",
    "assert \"unhashable type: 'dict'\" in str(raised_exception)\n",
    "print(\"✅ Standard dicts are correctly identified as unhashable.\")"
   ]
  }
 ],
 "metadata": {
  "kernelspec": {
   "display_name": "py-starter",
   "language": "python",
   "name": "python3"
  },
  "language_info": {
   "codemirror_mode": {
    "name": "ipython",
    "version": 3
   },
   "file_extension": ".py",
   "mimetype": "text/x-python",
   "name": "python",
   "nbconvert_exporter": "python",
   "pygments_lexer": "ipython3",
   "version": "3.12.11"
  }
 },
 "nbformat": 4,
 "nbformat_minor": 2
}
