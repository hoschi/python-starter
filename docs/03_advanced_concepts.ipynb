{
 "cells": [
  {
   "cell_type": "markdown",
   "metadata": {},
   "source": [
    "# Advanced Functional Concepts"
   ]
  },
  {
   "cell_type": "markdown",
   "metadata": {},
   "source": [
    "This notebook dives deeper into the `returns` library, exploring powerful patterns for handling more complex functional workflows. These tools help keep your code flat, readable, and robust, even when dealing with multiple operations that can fail."
   ]
  },
  {
   "cell_type": "markdown",
   "metadata": {},
   "source": [
    "## 1. Composing Monads with `returns.do`"
   ]
  },
  {
   "cell_type": "markdown",
   "metadata": {},
   "source": [
    "**The Problem:** When you have a sequence of operations that each return a `Result` or `Maybe`, you often need the output of one as the input for the next. This can lead to a deeply nested chain of `.bind()` calls, often called the \"Pyramid of Doom,\" which is hard to read.\n",
    "\n",
    "**The Solution:** The `returns.do` notation provides a way to write this sequential logic in a clean, flat, imperative-looking style, while still preserving the underlying functional and monadic guarantees. It's syntactic sugar for a series of `.bind()` calls."
   ]
  },
  {
   "cell_type": "code",
   "execution_count": null,
   "metadata": {},
   "outputs": [],
   "source": [
    "from returns.do import do\n",
    "from returns.result import Failure, Result, Success\n",
    "\n",
    "\n",
    "# Imagine three functions that can fail:\n",
    "def step1() -> Result[int, str]:\n",
    "    return Success(10)\n",
    "\n",
    "\n",
    "def step2(n: int) -> Result[int, str]:\n",
    "    if n > 5:\n",
    "        return Success(n * 2)\n",
    "    return Failure(\"Step 2 failed: input not > 5\")\n",
    "\n",
    "\n",
    "def step3(n: int) -> Result[str, str]:\n",
    "    return Success(f\"Final result is {n}\")\n",
    "\n",
    "\n",
    "# --- The 'Pyramid of Doom' with .bind() ---\n",
    "pyramid_result = step1().bind(step2).bind(step3)\n",
    "assert isinstance(pyramid_result, Success)\n",
    "assert pyramid_result.unwrap() == \"Final result is 20\"\n",
    "print(\"✅ `.bind()` chain works as expected.\")\n",
    "\n",
    "\n",
    "# --- The clean, flat style with `returns.do` ---\n",
    "@do\n",
    "def do_notation_workflow() -> Result[str, str]:\n",
    "    # Each `<-` is like a `.bind()` call. If any step returns a Failure,\n",
    "    # the entire workflow short-circuits and returns that Failure.\n",
    "    val1 = yield from step1()\n",
    "    val2 = yield from step2(val1)\n",
    "    val3 = yield from step3(val2)\n",
    "    return Success(val3)\n",
    "\n",
    "\n",
    "do_result = do_notation_workflow()\n",
    "\n",
    "# --- Verification ---\n",
    "assert isinstance(do_result, Success)\n",
    "assert do_result.unwrap() == \"Final result is 20\"\n",
    "assert do_result == pyramid_result  # The results are identical\n",
    "print(\"✅ `returns.do` notation produces the same result cleanly.\")"
   ]
  },
  {
   "cell_type": "markdown",
   "metadata": {},
   "source": [
    "## 2. Collapsing Nested Structures with `sequence`"
   ]
  },
  {
   "cell_type": "markdown",
   "metadata": {},
   "source": [
    "**The Problem:** You have a list of `Result`s (or `Maybe`s), for example, from validating multiple inputs. You want to know if *all* of them were successful. The ideal outcome is to transform `List[Result[A, B]]` into `Result[List[A], B]`. This new structure would be `Success[List[A]]` if all individual results were `Success`, or the *first* `Failure[B]` encountered.\n",
    "\n",
    "**The Solution:** `returns.iterables.sequence` does exactly this. It flips the types around."
   ]
  },
  {
   "cell_type": "code",
   "execution_count": null,
   "metadata": {},
   "outputs": [],
   "source": [
    "from returns.iterables import sequence\n",
    "from returns.result import Result, Success\n",
    "\n",
    "# --- Verification for Success case ---\n",
    "all_success = [Success(1), Success(2), Success(3)]\n",
    "sequenced_success = sequence(all_success)\n",
    "\n",
    "assert isinstance(sequenced_success, Success)\n",
    "assert sequenced_success.unwrap() == [1, 2, 3]\n",
    "print(\"✅ `sequence` correctly handled a list of all Successes.\")\n",
    "\n",
    "# --- Verification for Failure case ---\n",
    "one_failure = [\n",
    "    Success(1),\n",
    "    Failure(\"Error at item 2\"),\n",
    "    Success(3),  # This is ignored\n",
    "    Failure(\"Error at item 4\"),  # This is also ignored\n",
    "]\n",
    "sequenced_failure = sequence(one_failure)\n",
    "\n",
    "assert isinstance(sequenced_failure, Failure)\n",
    "assert sequenced_failure.failure() == \"Error at item 2\"\n",
    "print(\"✅ `sequence` correctly short-circuited on the first Failure.\")"
   ]
  },
  {
   "cell_type": "markdown",
   "metadata": {},
   "source": [
    "## 3. Lifting Functions into a Monadic Context"
   ]
  },
  {
   "cell_type": "markdown",
   "metadata": {},
   "source": [
    "**The Problem:** You have a regular, pure function that works on unwrapped values (e.g., `def add(a: int, b: int) -> int`). You also have your values wrapped in a monadic container like `Maybe` (e.g., `Maybe[int]`). How do you apply your pure function to the wrapped values without manually unwrapping them?\n",
    "\n",
    "**The Solution:** We \"lift\" the pure function so it can operate on wrapped values. This is achieved through a combination of `.map()` (for the first argument) and `.apply()` (for subsequent arguments). `apply` is a special method that takes a wrapped value and applies it to a wrapped function."
   ]
  },
  {
   "cell_type": "code",
   "execution_count": null,
   "metadata": {},
   "outputs": [],
   "source": [
    "from returns.curry import curry\n",
    "from returns.maybe import Nothing, Some\n",
    "\n",
    "\n",
    "# A regular, pure function:\n",
    "@curry\n",
    "def add(a: int, b: int) -> int:\n",
    "    return a + b\n",
    "\n",
    "\n",
    "# Our wrapped values:\n",
    "maybe_a = Some(10)\n",
    "maybe_b = Some(5)\n",
    "maybe_c = Nothing\n",
    "\n",
    "# --- Lifting `add` to work on Maybe ---\n",
    "# 1. Use `.map()` to apply the first argument. This returns a wrapped function: `Some(add(10))`\n",
    "lifted_add = maybe_a.map(add)\n",
    "\n",
    "# 2. Use `.apply()` to apply the second argument to the wrapped function.\n",
    "result_success = lifted_add.apply(maybe_b)\n",
    "\n",
    "# --- Verification for Success case ---\n",
    "assert isinstance(result_success, Some)\n",
    "assert result_success.unwrap() == 15\n",
    "print(f\"✅ Lifted function correctly produced {result_success}\")\n",
    "\n",
    "# --- Verification for Failure case (if one of the inputs is Nothing) ---\n",
    "result_failure = lifted_add.apply(maybe_c)\n",
    "assert isinstance(result_failure, Nothing)\n",
    "print(\n",
    "    f\"✅ Lifted function correctly produced {result_failure} when one input was Nothing.\"\n",
    ")"
   ]
  }
 ],
 "metadata": {
  "kernelspec": {
   "display_name": "py-starter",
   "language": "python",
   "name": "python3"
  },
  "language_info": {
   "codemirror_mode": {
    "name": "ipython",
    "version": 3
   },
   "file_extension": ".py",
   "mimetype": "text/x-python",
   "name": "python",
   "nbconvert_exporter": "python",
   "pygments_lexer": "ipython3",
   "version": "3.12.11"
  }
 },
 "nbformat": 4,
 "nbformat_minor": 2
}
