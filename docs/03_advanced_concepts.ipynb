{
 "cells": [
  {
   "cell_type": "markdown",
   "metadata": {},
   "source": [
    "# Advanced Functional Concepts"
   ]
  },
  {
   "cell_type": "markdown",
   "metadata": {},
   "source": [
    "This notebook dives deeper into the `returns` library, exploring powerful patterns for handling more complex functional workflows. These tools help keep your code flat, readable, and robust, even when dealing with multiple operations that can fail."
   ]
  },
  {
   "cell_type": "markdown",
   "metadata": {},
   "source": [
    "## 1. Composing Monads with `returns.do`"
   ]
  },
  {
   "cell_type": "markdown",
   "metadata": {},
   "source": [
    "**The Problem:** When you have a sequence of operations that each return a `Result` or `Maybe`, you often need the output of one as the input for the next. This can lead to a deeply nested chain of `.bind()` calls, often called the \"Pyramid of Doom,\" which is hard to read.\n",
    "\n",
    "**The Solution:** The `returns.do` notation provides a way to write this sequential logic in a clean, flat, imperative-looking style, while still preserving the underlying functional and monadic guarantees. It's syntactic sugar for a series of `.bind()` calls."
   ]
  },
  {
   "cell_type": "code",
   "execution_count": null,
   "metadata": {},
   "outputs": [
    {
     "data": {
      "text/plain": [
       "<Success: Final result is 20>"
      ]
     },
     "execution_count": 77,
     "metadata": {},
     "output_type": "execute_result"
    }
   ],
   "source": [
    "from returns.result import Failure, Result, Success\n",
    "\n",
    "# Imagine three functions that can fail:\n",
    "def step1() -> Result[int, str]:\n",
    "    return Success(10)\n",
    "\n",
    "\n",
    "def step2(n: int) -> Result[int, str]:\n",
    "    if n > 5:\n",
    "        return Success(n * 2)\n",
    "    return Failure(\"Step 2 failed: input not > 5\")\n",
    "\n",
    "\n",
    "def step3(n: int) -> Result[str, str]:\n",
    "    return Success(f\"Final result is {n}\")\n",
    "\n",
    "\n",
    "# --- The 'Pyramid of Doom' with .bind() ---\n",
    "pyramid_result = step1().bind(step2).bind(step3)\n",
    "pyramid_result\n"
   ]
  },
  {
   "cell_type": "code",
   "execution_count": 78,
   "metadata": {},
   "outputs": [
    {
     "name": "stdout",
     "output_type": "stream",
     "text": [
      "✅ `.bind()` chain works as expected.\n"
     ]
    }
   ],
   "source": [
    "assert isinstance(pyramid_result, Success)\n",
    "assert pyramid_result.unwrap() == \"Final result is 20\"\n",
    "print(\"✅ `.bind()` chain works as expected.\")\n"
   ]
  },
  {
   "cell_type": "code",
   "execution_count": 79,
   "metadata": {},
   "outputs": [
    {
     "data": {
      "text/plain": [
       "<Success: Final result is 20>"
      ]
     },
     "execution_count": 79,
     "metadata": {},
     "output_type": "execute_result"
    }
   ],
   "source": [
    "# --- The clean, flat style with `returns.do` ---\n",
    "def do_notation_workflow() -> Result[str, str]:\n",
    "    return Result.do(\n",
    "        res\n",
    "        for first in step1()\n",
    "        for sec in step2(first)\n",
    "        for res in step3(sec)\n",
    "    )\n",
    "\n",
    "do_result = do_notation_workflow()\n",
    "do_result"
   ]
  },
  {
   "cell_type": "code",
   "execution_count": 80,
   "metadata": {},
   "outputs": [
    {
     "name": "stdout",
     "output_type": "stream",
     "text": [
      "✅ `returns.do` notation produces the same result cleanly.\n"
     ]
    }
   ],
   "source": [
    "assert isinstance(do_result, Success)\n",
    "assert do_result.unwrap() == \"Final result is 20\"\n",
    "assert do_result == pyramid_result  # The results are identical\n",
    "print(\"✅ `returns.do` notation produces the same result cleanly.\")"
   ]
  },
  {
   "cell_type": "markdown",
   "metadata": {},
   "source": [
    "## 2. Collapsing Nested Structures with `sequence`"
   ]
  },
  {
   "cell_type": "markdown",
   "metadata": {},
   "source": [
    "**The Problem:** You have a list of `Result`s (or `Maybe`s), for example, from validating multiple inputs. You want to know if *all* of them were successful. The ideal outcome is to transform `List[Result[A, B]]` into `Result[List[A], B]`. This new structure would be `Success[List[A]]` if all individual results were `Success`, or the *first* `Failure[B]` encountered.\n",
    "\n",
    "**The Solution:** `returns.iterables.sequence` does exactly this. It flips the types around."
   ]
  },
  {
   "cell_type": "code",
   "execution_count": 81,
   "metadata": {},
   "outputs": [
    {
     "name": "stdout",
     "output_type": "stream",
     "text": [
      "success sequence: <Success: (1, 2, 3)>\n",
      "✅ `sequence` correctly handled a list of all Successes.\n",
      "failure sequence: <Failure: Error at item 2>\n",
      "✅ `sequence` correctly short-circuited on the first Failure.\n"
     ]
    }
   ],
   "source": [
    "from returns.iterables import Fold\n",
    "from returns.result import Result, Success\n",
    "\n",
    "# --- Verification for Success case ---\n",
    "all_success = [Success(1), Success(2), Success(3)]\n",
    "sequenced_success = Fold.collect(all_success,Success(()))\n",
    "\n",
    "print(f\"success sequence: {sequenced_success}\")\n",
    "assert isinstance(sequenced_success, Success)\n",
    "assert sequenced_success.unwrap() ==  (1, 2, 3)\n",
    "print(\"✅ `sequence` correctly handled a list of all Successes.\")\n",
    "\n",
    "# --- Verification for Failure case ---\n",
    "one_failure = [\n",
    "    Success(1),\n",
    "    Failure(\"Error at item 2\"),\n",
    "    Success(3),  # This is ignored\n",
    "    Failure(\"Error at item 4\"),  # This is also ignored\n",
    "]\n",
    "sequenced_failure = Fold.collect(one_failure,Success(()))\n",
    "\n",
    "print(f\"failure sequence: {sequenced_failure}\")\n",
    "assert isinstance(sequenced_failure, Failure)\n",
    "assert sequenced_failure.failure() == \"Error at item 2\"\n",
    "print(\"✅ `sequence` correctly short-circuited on the first Failure.\")"
   ]
  },
  {
   "cell_type": "markdown",
   "metadata": {},
   "source": [
    "## 3. How to make normal functions work with values in containers"
   ]
  },
  {
   "cell_type": "markdown",
   "metadata": {},
   "source": [
    "**The Problem:** You have a regular, pure function that works on unwrapped values (e.g., `def add(a: int, b: int) -> int`). You also have your values wrapped in a monadic container like `Maybe` (e.g., `Maybe[int]`). How do you apply your pure function to the wrapped values without manually unwrapping them?"
   ]
  },
  {
   "cell_type": "markdown",
   "metadata": {},
   "source": [
    "### `apply` values to curried function"
   ]
  },
  {
   "cell_type": "code",
   "execution_count": 82,
   "metadata": {},
   "outputs": [
    {
     "data": {
      "text/plain": [
       "<Some: 15>"
      ]
     },
     "execution_count": 82,
     "metadata": {},
     "output_type": "execute_result"
    }
   ],
   "source": [
    "from returns.curry import curry\n",
    "from returns.maybe import Nothing, Some\n",
    "\n",
    "\n",
    "# A regular, pure function:\n",
    "@curry\n",
    "def add(a: int, b: int) -> int:\n",
    "    return a + b\n",
    "\n",
    "\n",
    "# Our wrapped values:\n",
    "maybe_a = Some(10)\n",
    "maybe_b = Some(5)\n",
    "maybe_c = Nothing\n",
    "\n",
    "result_success = maybe_a.apply(maybe_b.apply(Some(add)))\n",
    "result_success\n"
   ]
  },
  {
   "cell_type": "code",
   "execution_count": 83,
   "metadata": {},
   "outputs": [
    {
     "data": {
      "text/plain": [
       "<Some: 15>"
      ]
     },
     "execution_count": 83,
     "metadata": {},
     "output_type": "execute_result"
    }
   ],
   "source": [
    "from returns.pipeline import flow\n",
    "\n",
    "\n",
    "result_success = flow(\n",
    "    Some(add),\n",
    "    lambda _sum: maybe_a.apply(_sum),\n",
    "    lambda _sum: maybe_b.apply(_sum)\n",
    ")\n",
    "result_success"
   ]
  },
  {
   "cell_type": "code",
   "execution_count": 97,
   "metadata": {},
   "outputs": [
    {
     "data": {
      "text/plain": [
       "<IO: 6>"
      ]
     },
     "execution_count": 97,
     "metadata": {},
     "output_type": "execute_result"
    }
   ],
   "source": [
    "from returns.curry import curry\n",
    "from returns.io import IO\n",
    "from returns.pipeline import flow\n",
    "from returns.pointfree import apply\n",
    "\n",
    "@curry\n",
    "def flip(f, a, b):\n",
    "    return f(b)(a)\n",
    "\n",
    "rev_apply = flip(apply)\n",
    "\n",
    "@curry\n",
    "def sum(a: int, b: int, c: int) -> int:\n",
    "    return a + b + c\n",
    "\n",
    "def fetch_balance() -> IO[int]:\n",
    "    return IO(10)\n",
    "\n",
    "def fetch_discount() -> IO[int]:\n",
    "    return IO(-5)\n",
    "\n",
    "def fetch_price() -> IO[int]:\n",
    "    return IO(1)\n",
    "\n",
    "# Pipeline mit flow und pointfree.apply + flip (ohne Lambdas)\n",
    "result = flow(\n",
    "    IO(sum),\n",
    "    rev_apply(fetch_balance()),\n",
    "    rev_apply(fetch_price()),\n",
    "    rev_apply(fetch_discount()),\n",
    ")\n",
    "result"
   ]
  },
  {
   "cell_type": "code",
   "execution_count": null,
   "metadata": {},
   "outputs": [],
   "source": [
    "from returns import pointfree as p\n",
    "\n",
    "result_success = flow(\n",
    "    Some(add),\n",
    "    p.apply()\n",
    ")\n",
    "result_success"
   ]
  },
  {
   "cell_type": "code",
   "execution_count": 84,
   "metadata": {},
   "outputs": [
    {
     "name": "stdout",
     "output_type": "stream",
     "text": [
      "✅ Lifted function correctly produced <Some: 15>\n"
     ]
    }
   ],
   "source": [
    "\n",
    "# --- Verification for Success case ---\n",
    "assert isinstance(result_success, Some)\n",
    "assert result_success.unwrap() == 15\n",
    "print(f\"✅ Lifted function correctly produced {result_success}\")\n"
   ]
  },
  {
   "cell_type": "code",
   "execution_count": 85,
   "metadata": {},
   "outputs": [
    {
     "data": {
      "text/plain": [
       "<Nothing>"
      ]
     },
     "execution_count": 85,
     "metadata": {},
     "output_type": "execute_result"
    }
   ],
   "source": [
    "# --- Verification for Failure case (if one of the inputs is Nothing) ---\n",
    "result_failure = maybe_a.apply(maybe_c.apply(Some(add)))\n",
    "result_failure\n"
   ]
  },
  {
   "cell_type": "code",
   "execution_count": 86,
   "metadata": {},
   "outputs": [
    {
     "name": "stdout",
     "output_type": "stream",
     "text": [
      "✅ Lifted function correctly produced <Nothing> when one input was Nothing.\n"
     ]
    }
   ],
   "source": [
    "result_failure.value_or('nothing') == 'nothing'\n",
    "print(\n",
    "    f\"✅ Lifted function correctly produced {result_failure} when one input was Nothing.\"\n",
    ")"
   ]
  },
  {
   "cell_type": "markdown",
   "metadata": {},
   "source": [
    "### `apply` values as a chain"
   ]
  },
  {
   "cell_type": "code",
   "execution_count": 90,
   "metadata": {},
   "outputs": [
    {
     "ename": "AttributeError",
     "evalue": "'NoneType' object has no attribute 'apply'",
     "output_type": "error",
     "traceback": [
      "\u001b[31m---------------------------------------------------------------------------\u001b[39m",
      "\u001b[31mAttributeError\u001b[39m                            Traceback (most recent call last)",
      "\u001b[36mCell\u001b[39m\u001b[36m \u001b[39m\u001b[32mIn[90]\u001b[39m\u001b[32m, line 2\u001b[39m\n\u001b[32m      1\u001b[39m \u001b[38;5;28;01mfrom\u001b[39;00m\u001b[38;5;250m \u001b[39m\u001b[34;01mreturns\u001b[39;00m\u001b[34;01m.\u001b[39;00m\u001b[34;01mmaybe\u001b[39;00m\u001b[38;5;250m \u001b[39m\u001b[38;5;28;01mimport\u001b[39;00m Maybe\n\u001b[32m----> \u001b[39m\u001b[32m2\u001b[39m result_success = \u001b[43mMaybe\u001b[49m\u001b[43m(\u001b[49m\u001b[43madd\u001b[49m\u001b[43m)\u001b[49m\u001b[43m.\u001b[49m\u001b[43mapply\u001b[49m\u001b[43m(\u001b[49m\u001b[43mmaybe_a\u001b[49m\u001b[43m)\u001b[49m\u001b[43m.\u001b[49m\u001b[43mapply\u001b[49m(maybe_b)\n\u001b[32m      3\u001b[39m result_success\n",
      "\u001b[31mAttributeError\u001b[39m: 'NoneType' object has no attribute 'apply'"
     ]
    }
   ],
   "source": [
    "from returns.maybe import Maybe\n",
    "result_success = Maybe(add).apply(maybe_a).apply(maybe_b)\n",
    "result_success"
   ]
  },
  {
   "cell_type": "code",
   "execution_count": null,
   "metadata": {},
   "outputs": [
    {
     "ename": "TypeError",
     "evalue": "'int' object is not callable",
     "output_type": "error",
     "traceback": [
      "\u001b[31m---------------------------------------------------------------------------\u001b[39m",
      "\u001b[31mTypeError\u001b[39m                                 Traceback (most recent call last)",
      "\u001b[36mCell\u001b[39m\u001b[36m \u001b[39m\u001b[32mIn[71]\u001b[39m\u001b[32m, line 10\u001b[39m\n\u001b[32m      8\u001b[39m one = IO(\u001b[32m1\u001b[39m)\n\u001b[32m      9\u001b[39m two = IO(\u001b[32m2\u001b[39m)\n\u001b[32m---> \u001b[39m\u001b[32m10\u001b[39m \u001b[38;5;28;01massert\u001b[39;00m \u001b[43mIO\u001b[49m\u001b[43m(\u001b[49m\u001b[43msum_two_numbers\u001b[49m\u001b[43m)\u001b[49m\u001b[43m.\u001b[49m\u001b[43mapply\u001b[49m\u001b[43m(\u001b[49m\u001b[43mone\u001b[49m\u001b[43m)\u001b[49m.apply(two) == IO(\u001b[32m3\u001b[39m)\n",
      "\u001b[36mFile \u001b[39m\u001b[32m/opt/homebrew/Caskroom/miniconda/base/envs/py-starter/lib/python3.12/site-packages/returns/io.py:128\u001b[39m, in \u001b[36mIO.apply\u001b[39m\u001b[34m(self, container)\u001b[39m\n\u001b[32m    102\u001b[39m \u001b[38;5;28;01mdef\u001b[39;00m\u001b[38;5;250m \u001b[39m\u001b[34mapply\u001b[39m(\n\u001b[32m    103\u001b[39m     \u001b[38;5;28mself\u001b[39m,\n\u001b[32m    104\u001b[39m     container: Kind1[\u001b[33m'\u001b[39m\u001b[33mIO\u001b[39m\u001b[33m'\u001b[39m, Callable[[_ValueType_co], _NewValueType]],\n\u001b[32m    105\u001b[39m ) -> \u001b[33m'\u001b[39m\u001b[33mIO[_NewValueType]\u001b[39m\u001b[33m'\u001b[39m:\n\u001b[32m    106\u001b[39m \u001b[38;5;250m    \u001b[39m\u001b[33;03m\"\"\"\u001b[39;00m\n\u001b[32m    107\u001b[39m \u001b[33;03m    Calls a wrapped function in a container on this container.\u001b[39;00m\n\u001b[32m    108\u001b[39m \n\u001b[32m   (...)\u001b[39m\u001b[32m    126\u001b[39m \n\u001b[32m    127\u001b[39m \u001b[33;03m    \"\"\"\u001b[39;00m\n\u001b[32m--> \u001b[39m\u001b[32m128\u001b[39m     \u001b[38;5;28;01mreturn\u001b[39;00m \u001b[38;5;28;43mself\u001b[39;49m\u001b[43m.\u001b[49m\u001b[43mmap\u001b[49m\u001b[43m(\u001b[49m\u001b[43mdekind\u001b[49m\u001b[43m(\u001b[49m\u001b[43mcontainer\u001b[49m\u001b[43m)\u001b[49m\u001b[43m.\u001b[49m\u001b[43m_inner_value\u001b[49m\u001b[43m)\u001b[49m\n",
      "\u001b[36mFile \u001b[39m\u001b[32m/opt/homebrew/Caskroom/miniconda/base/envs/py-starter/lib/python3.12/site-packages/returns/io.py:100\u001b[39m, in \u001b[36mIO.map\u001b[39m\u001b[34m(self, function)\u001b[39m\n\u001b[32m     80\u001b[39m \u001b[38;5;28;01mdef\u001b[39;00m\u001b[38;5;250m \u001b[39m\u001b[34mmap\u001b[39m(\n\u001b[32m     81\u001b[39m     \u001b[38;5;28mself\u001b[39m,\n\u001b[32m     82\u001b[39m     function: Callable[[_ValueType_co], _NewValueType],\n\u001b[32m     83\u001b[39m ) -> \u001b[33m'\u001b[39m\u001b[33mIO[_NewValueType]\u001b[39m\u001b[33m'\u001b[39m:\n\u001b[32m     84\u001b[39m \u001b[38;5;250m    \u001b[39m\u001b[33;03m\"\"\"\u001b[39;00m\n\u001b[32m     85\u001b[39m \u001b[33;03m    Applies function to the inner value.\u001b[39;00m\n\u001b[32m     86\u001b[39m \n\u001b[32m   (...)\u001b[39m\u001b[32m     98\u001b[39m \n\u001b[32m     99\u001b[39m \u001b[33;03m    \"\"\"\u001b[39;00m\n\u001b[32m--> \u001b[39m\u001b[32m100\u001b[39m     \u001b[38;5;28;01mreturn\u001b[39;00m IO(\u001b[43mfunction\u001b[49m\u001b[43m(\u001b[49m\u001b[38;5;28;43mself\u001b[39;49m\u001b[43m.\u001b[49m\u001b[43m_inner_value\u001b[49m\u001b[43m)\u001b[49m)\n",
      "\u001b[31mTypeError\u001b[39m: 'int' object is not callable"
     ]
    }
   ],
   "source": [
    "from returns.curry import curry\n",
    "from returns.io import IO\n",
    "\n",
    "@curry\n",
    "def sum_two_numbers(first: int, second: int) -> int:\n",
    "    return first + second\n",
    "\n",
    "one = IO(1)\n",
    "two = IO(2)\n",
    "assert IO(sum_two_numbers).apply(one).apply(two) == IO(3)"
   ]
  }
 ],
 "metadata": {
  "kernelspec": {
   "display_name": "py-starter",
   "language": "python",
   "name": "python3"
  },
  "language_info": {
   "codemirror_mode": {
    "name": "ipython",
    "version": 3
   },
   "file_extension": ".py",
   "mimetype": "text/x-python",
   "name": "python",
   "nbconvert_exporter": "python",
   "pygments_lexer": "ipython3",
   "version": "3.12.11"
  }
 },
 "nbformat": 4,
 "nbformat_minor": 2
}
