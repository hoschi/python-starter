{
 "cells": [
  {
   "cell_type": "markdown",
   "metadata": {},
   "source": [
    "# Advanced Functional Concepts"
   ]
  },
  {
   "cell_type": "markdown",
   "metadata": {},
   "source": [
    "This notebook dives deeper into the `returns` library, exploring powerful patterns for handling more complex functional workflows. These tools help keep your code flat, readable, and robust, even when dealing with multiple operations that can fail."
   ]
  },
  {
   "cell_type": "markdown",
   "metadata": {},
   "source": [
    "## 1. Composing Monads with `returns.do`"
   ]
  },
  {
   "cell_type": "markdown",
   "metadata": {},
   "source": [
    "**The Problem:** When you have a sequence of operations that each return a `Result` or `Maybe`, you often need the output of one as the input for the next. This can lead to a deeply nested chain of `.bind()` calls, often called the \"Pyramid of Doom,\" which is hard to read.\n",
    "\n",
    "**The Solution:** The `returns.do` notation provides a way to write this sequential logic in a clean, flat, imperative-looking style, while still preserving the underlying functional and monadic guarantees. It's syntactic sugar for a series of `.bind()` calls."
   ]
  },
  {
   "cell_type": "code",
   "execution_count": 34,
   "metadata": {},
   "outputs": [
    {
     "data": {
      "text/plain": [
       "<Success: Final result is 20>"
      ]
     },
     "execution_count": 34,
     "metadata": {},
     "output_type": "execute_result"
    }
   ],
   "source": [
    "from returns.result import Failure, Result, Success\n",
    "\n",
    "\n",
    "# Imagine three functions that can fail:\n",
    "def step1() -> Result[int, str]:\n",
    "    return Success(10)\n",
    "\n",
    "\n",
    "def step2(n: int) -> Result[int, str]:\n",
    "    if n > 5:\n",
    "        return Success(n * 2)\n",
    "    return Failure(\"Step 2 failed: input not > 5\")\n",
    "\n",
    "\n",
    "def step3(n: int) -> Result[str, str]:\n",
    "    return Success(f\"Final result is {n}\")\n",
    "\n",
    "\n",
    "# --- The 'Pyramid of Doom' with .bind() ---\n",
    "pyramid_result = step1().bind(step2).bind(step3)\n",
    "pyramid_result\n"
   ]
  },
  {
   "cell_type": "code",
   "execution_count": 28,
   "metadata": {},
   "outputs": [
    {
     "name": "stdout",
     "output_type": "stream",
     "text": [
      "✅ `.bind()` chain works as expected.\n"
     ]
    }
   ],
   "source": [
    "assert isinstance(pyramid_result, Success)\n",
    "assert pyramid_result.unwrap() == \"Final result is 20\"\n",
    "print(\"✅ `.bind()` chain works as expected.\")\n"
   ]
  },
  {
   "cell_type": "code",
   "execution_count": 33,
   "metadata": {},
   "outputs": [
    {
     "data": {
      "text/plain": [
       "<Success: Final result is 20>"
      ]
     },
     "execution_count": 33,
     "metadata": {},
     "output_type": "execute_result"
    }
   ],
   "source": [
    "# --- The clean, flat style with `returns.do` ---\n",
    "def do_notation_workflow() -> Result[str, str]:\n",
    "    return Result.do(\n",
    "        res\n",
    "        for first in step1()\n",
    "        for sec in step2(first)\n",
    "        for res in step3(sec)\n",
    "    )\n",
    "\n",
    "do_result = do_notation_workflow()\n",
    "do_result"
   ]
  },
  {
   "cell_type": "code",
   "execution_count": 37,
   "metadata": {},
   "outputs": [
    {
     "name": "stdout",
     "output_type": "stream",
     "text": [
      "✅ `returns.do` notation produces the same result cleanly.\n"
     ]
    }
   ],
   "source": [
    "assert isinstance(do_result, Success)\n",
    "assert do_result.unwrap() == \"Final result is 20\"\n",
    "assert do_result == pyramid_result  # The results are identical\n",
    "print(\"✅ `returns.do` notation produces the same result cleanly.\")"
   ]
  },
  {
   "cell_type": "markdown",
   "metadata": {},
   "source": [
    "## 2. Collapsing Nested Structures with `sequence`"
   ]
  },
  {
   "cell_type": "markdown",
   "metadata": {},
   "source": [
    "**The Problem:** You have a list of `Result`s (or `Maybe`s), for example, from validating multiple inputs. You want to know if *all* of them were successful. The ideal outcome is to transform `List[Result[A, B]]` into `Result[List[A], B]`. This new structure would be `Success[List[A]]` if all individual results were `Success`, or the *first* `Failure[B]` encountered.\n",
    "\n",
    "**The Solution:** `returns.iterables.sequence` does exactly this. It flips the types around."
   ]
  },
  {
   "cell_type": "code",
   "execution_count": 31,
   "metadata": {},
   "outputs": [
    {
     "name": "stdout",
     "output_type": "stream",
     "text": [
      "success sequence: <Success: (1, 2, 3)>\n",
      "✅ `sequence` correctly handled a list of all Successes.\n",
      "failure sequence: <Failure: Error at item 2>\n",
      "✅ `sequence` correctly short-circuited on the first Failure.\n"
     ]
    }
   ],
   "source": [
    "from returns.iterables import Fold\n",
    "from returns.result import Result, Success\n",
    "\n",
    "# --- Verification for Success case ---\n",
    "all_success = [Success(1), Success(2), Success(3)]\n",
    "sequenced_success = Fold.collect(all_success,Success(()))\n",
    "\n",
    "print(f\"success sequence: {sequenced_success}\")\n",
    "assert isinstance(sequenced_success, Success)\n",
    "assert sequenced_success.unwrap() ==  (1, 2, 3)\n",
    "print(\"✅ `sequence` correctly handled a list of all Successes.\")\n",
    "\n",
    "# --- Verification for Failure case ---\n",
    "one_failure = [\n",
    "    Success(1),\n",
    "    Failure(\"Error at item 2\"),\n",
    "    Success(3),  # This is ignored\n",
    "    Failure(\"Error at item 4\"),  # This is also ignored\n",
    "]\n",
    "sequenced_failure = Fold.collect(one_failure,Success(()))\n",
    "\n",
    "print(f\"failure sequence: {sequenced_failure}\")\n",
    "assert isinstance(sequenced_failure, Failure)\n",
    "assert sequenced_failure.failure() == \"Error at item 2\"\n",
    "print(\"✅ `sequence` correctly short-circuited on the first Failure.\")"
   ]
  },
  {
   "cell_type": "markdown",
   "metadata": {},
   "source": [
    "## 3. Lifting Functions into a Monadic Context"
   ]
  },
  {
   "cell_type": "markdown",
   "metadata": {},
   "source": [
    "**The Problem:** You have a regular, pure function that works on unwrapped values (e.g., `def add(a: int, b: int) -> int`). You also have your values wrapped in a monadic container like `Maybe` (e.g., `Maybe[int]`). How do you apply your pure function to the wrapped values without manually unwrapping them?\n",
    "\n",
    "**The Solution:** We \"lift\" the pure function so it can operate on wrapped values. This is achieved through a combination of `.map()` (for the first argument) and `.apply()` (for subsequent arguments). `apply` is a special method that takes a wrapped value and applies it to a wrapped function."
   ]
  },
  {
   "cell_type": "code",
   "execution_count": 32,
   "metadata": {},
   "outputs": [
    {
     "ename": "TypeError",
     "evalue": "'int' object is not callable",
     "output_type": "error",
     "traceback": [
      "\u001b[31m---------------------------------------------------------------------------\u001b[39m",
      "\u001b[31mTypeError\u001b[39m                                 Traceback (most recent call last)",
      "\u001b[36mCell\u001b[39m\u001b[36m \u001b[39m\u001b[32mIn[32]\u001b[39m\u001b[32m, line 21\u001b[39m\n\u001b[32m     18\u001b[39m lifted_add = maybe_a.map(add)\n\u001b[32m     20\u001b[39m \u001b[38;5;66;03m# 2. Use `.apply()` to apply the second argument to the wrapped function.\u001b[39;00m\n\u001b[32m---> \u001b[39m\u001b[32m21\u001b[39m result_success = \u001b[43mlifted_add\u001b[49m\u001b[43m.\u001b[49m\u001b[43mapply\u001b[49m\u001b[43m(\u001b[49m\u001b[43mmaybe_b\u001b[49m\u001b[43m)\u001b[49m\n\u001b[32m     23\u001b[39m \u001b[38;5;66;03m# --- Verification for Success case ---\u001b[39;00m\n\u001b[32m     24\u001b[39m \u001b[38;5;28;01massert\u001b[39;00m \u001b[38;5;28misinstance\u001b[39m(result_success, Some)\n",
      "\u001b[36mFile \u001b[39m\u001b[32m/opt/homebrew/Caskroom/miniconda/base/envs/py-starter/lib/python3.12/site-packages/returns/maybe.py:426\u001b[39m, in \u001b[36mSome.apply\u001b[39m\u001b[34m(self, container)\u001b[39m\n\u001b[32m    424\u001b[39m \u001b[38;5;250m\u001b[39m\u001b[33;03m\"\"\"Calls a wrapped function in a container on this container.\"\"\"\u001b[39;00m\n\u001b[32m    425\u001b[39m \u001b[38;5;28;01mif\u001b[39;00m \u001b[38;5;28misinstance\u001b[39m(container, Some):\n\u001b[32m--> \u001b[39m\u001b[32m426\u001b[39m     \u001b[38;5;28;01mreturn\u001b[39;00m \u001b[38;5;28;43mself\u001b[39;49m\u001b[43m.\u001b[49m\u001b[43mmap\u001b[49m\u001b[43m(\u001b[49m\u001b[43mcontainer\u001b[49m\u001b[43m.\u001b[49m\u001b[43munwrap\u001b[49m\u001b[43m(\u001b[49m\u001b[43m)\u001b[49m\u001b[43m)\u001b[49m  \u001b[38;5;66;03m# type: ignore\u001b[39;00m\n\u001b[32m    427\u001b[39m \u001b[38;5;28;01mreturn\u001b[39;00m container\n",
      "\u001b[36mFile \u001b[39m\u001b[32m/opt/homebrew/Caskroom/miniconda/base/envs/py-starter/lib/python3.12/site-packages/returns/maybe.py:421\u001b[39m, in \u001b[36mSome.map\u001b[39m\u001b[34m(self, function)\u001b[39m\n\u001b[32m    419\u001b[39m \u001b[38;5;28;01mdef\u001b[39;00m\u001b[38;5;250m \u001b[39m\u001b[34mmap\u001b[39m(\u001b[38;5;28mself\u001b[39m, function):\n\u001b[32m    420\u001b[39m \u001b[38;5;250m    \u001b[39m\u001b[33;03m\"\"\"Composes current container with a pure function.\"\"\"\u001b[39;00m\n\u001b[32m--> \u001b[39m\u001b[32m421\u001b[39m     \u001b[38;5;28;01mreturn\u001b[39;00m Some(\u001b[43mfunction\u001b[49m\u001b[43m(\u001b[49m\u001b[38;5;28;43mself\u001b[39;49m\u001b[43m.\u001b[49m\u001b[43m_inner_value\u001b[49m\u001b[43m)\u001b[49m)\n",
      "\u001b[31mTypeError\u001b[39m: 'int' object is not callable"
     ]
    }
   ],
   "source": [
    "from returns.curry import curry\n",
    "from returns.maybe import Nothing, Some\n",
    "\n",
    "\n",
    "# A regular, pure function:\n",
    "@curry\n",
    "def add(a: int, b: int) -> int:\n",
    "    return a + b\n",
    "\n",
    "\n",
    "# Our wrapped values:\n",
    "maybe_a = Some(10)\n",
    "maybe_b = Some(5)\n",
    "maybe_c = Nothing\n",
    "\n",
    "# --- Lifting `add` to work on Maybe ---\n",
    "# 1. Use `.map()` to apply the first argument. This returns a wrapped function: `Some(add(10))`\n",
    "lifted_add = maybe_a.map(add)\n",
    "\n",
    "# 2. Use `.apply()` to apply the second argument to the wrapped function.\n",
    "result_success = lifted_add.apply(maybe_b)\n",
    "\n",
    "# --- Verification for Success case ---\n",
    "assert isinstance(result_success, Some)\n",
    "assert result_success.unwrap() == 15\n",
    "print(f\"✅ Lifted function correctly produced {result_success}\")\n",
    "\n",
    "# --- Verification for Failure case (if one of the inputs is Nothing) ---\n",
    "result_failure = lifted_add.apply(maybe_c)\n",
    "assert isinstance(result_failure, Nothing)\n",
    "print(\n",
    "    f\"✅ Lifted function correctly produced {result_failure} when one input was Nothing.\"\n",
    ")"
   ]
  }
 ],
 "metadata": {
  "kernelspec": {
   "display_name": "py-starter",
   "language": "python",
   "name": "python3"
  },
  "language_info": {
   "codemirror_mode": {
    "name": "ipython",
    "version": 3
   },
   "file_extension": ".py",
   "mimetype": "text/x-python",
   "name": "python",
   "nbconvert_exporter": "python",
   "pygments_lexer": "ipython3",
   "version": "3.12.11"
  }
 },
 "nbformat": 4,
 "nbformat_minor": 2
}
