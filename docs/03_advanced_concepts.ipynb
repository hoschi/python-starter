{
 "cells": [
  {
   "cell_type": "markdown",
   "metadata": {},
   "source": [
    "# Advanced Functional Concepts"
   ]
  },
  {
   "cell_type": "markdown",
   "metadata": {},
   "source": [
    "This notebook dives deeper into the `returns` library, exploring powerful patterns for handling more complex functional workflows. These tools help keep your code flat, readable, and robust, even when dealing with multiple operations that can fail."
   ]
  },
  {
   "cell_type": "markdown",
   "metadata": {},
   "source": [
    "## Pyromad of doom"
   ]
  },
  {
   "cell_type": "code",
   "execution_count": null,
   "metadata": {},
   "outputs": [],
   "source": [
    "\"\"\"\n",
    "Pyramid of Doom Problem and Solution using the `returns` library\n",
    "\n",
    "This example demonstrates:\n",
    "1. The \"Pyramid of Doom\" problem with nested Result handling\n",
    "2. Clean solution using the `returns` library's monadic operations\n",
    "\"\"\"\n",
    "\n",
    "import json\n",
    "from typing import Any\n",
    "\n",
    "from returns.pipeline import flow\n",
    "from returns.pointfree import bind\n",
    "from returns.result import Failure, Result, Success\n",
    "\n",
    "\n",
    "# Simulate some operations that can fail\n",
    "def parse_json(data: str) -> Result[dict[Any, Any], str]:\n",
    "    \"\"\"Parse JSON string, returning Result.\"\"\"\n",
    "    try:\n",
    "        parsed = json.loads(data)\n",
    "        return Success(parsed)\n",
    "    except json.JSONDecodeError as e:\n",
    "        return Failure(f\"JSON parsing error: {str(e)}\")\n",
    "\n",
    "\n",
    "def extract_user_id(data: dict[Any, Any]) -> Result[int, str]:\n",
    "    \"\"\"Extract user_id from parsed data.\"\"\"\n",
    "    if \"user\" not in data:\n",
    "        return Failure(\"Missing 'user' field\")\n",
    "\n",
    "    if \"id\" not in data[\"user\"]:\n",
    "        return Failure(\"Missing 'id' in user data\")\n",
    "\n",
    "    try:\n",
    "        user_id = int(data[\"user\"][\"id\"])\n",
    "        return Success(user_id)\n",
    "    except (ValueError, TypeError):\n",
    "        return Failure(\"Invalid user ID format\")\n",
    "\n",
    "\n",
    "def validate_user_id(user_id: int) -> Result[int, str]:\n",
    "    \"\"\"Validate that user ID is positive.\"\"\"\n",
    "    if user_id <= 0:\n",
    "        return Failure(\"User ID must be positive\")\n",
    "    return Success(user_id)\n",
    "\n",
    "\n",
    "def fetch_user_permissions(user_id: int) -> Result[list, str]:\n",
    "    \"\"\"Simulate fetching user permissions (could fail due to network, etc.).\"\"\"\n",
    "    # Simulate some users not having permissions\n",
    "    if user_id == 999:\n",
    "        return Failure(\"User not found in permissions database\")\n",
    "\n",
    "    # Simulate network failure for some IDs\n",
    "    if user_id % 10 == 0:\n",
    "        return Failure(\"Network error while fetching permissions\")\n",
    "\n",
    "    # Return mock permissions\n",
    "    permissions = [\"read\", \"write\"] if user_id % 2 == 1 else [\"read\"]\n",
    "    return Success(permissions)\n",
    "\n",
    "\n",
    "def check_write_permission(permissions: list) -> Result[bool, str]:\n",
    "    \"\"\"Check if user has write permission.\"\"\"\n",
    "    has_write = \"write\" in permissions\n",
    "    if not has_write:\n",
    "        return Failure(\"User lacks write permission\")\n",
    "    return Success(True)\n",
    "\n",
    "\n",
    "# =============================================================================\n",
    "# THE PROBLEM: Pyramid of Doom\n",
    "# =============================================================================\n",
    "\n",
    "\n",
    "def process_user_request_nested(json_data: str) -> Result[bool, str]:\n",
    "    \"\"\"\n",
    "    The BAD way: Nested Result handling creating the \"Pyramid of Doom\"\n",
    "    \"\"\"\n",
    "    parse_result = parse_json(json_data)\n",
    "\n",
    "    if isinstance(parse_result, Success):\n",
    "        user_id_result = extract_user_id(parse_result.unwrap())\n",
    "\n",
    "        if isinstance(user_id_result, Success):\n",
    "            validation_result = validate_user_id(user_id_result.unwrap())\n",
    "\n",
    "            if isinstance(validation_result, Success):\n",
    "                permissions_result = fetch_user_permissions(validation_result.unwrap())\n",
    "\n",
    "                if isinstance(permissions_result, Success):\n",
    "                    permission_check = check_write_permission(\n",
    "                        permissions_result.unwrap()\n",
    "                    )\n",
    "\n",
    "                    if isinstance(permission_check, Success):\n",
    "                        return Success(True)\n",
    "                    else:\n",
    "                        return permission_check\n",
    "                else:\n",
    "                    return permissions_result\n",
    "            else:\n",
    "                return validation_result\n",
    "        else:\n",
    "            return user_id_result\n",
    "    else:\n",
    "        return parse_result\n",
    "\n",
    "\n",
    "# =============================================================================\n",
    "# THE SOLUTION: Using returns library's monadic operations\n",
    "# =============================================================================\n",
    "\n",
    "\n",
    "def process_user_request_clean(json_data: str) -> Result[bool, str]:\n",
    "    \"\"\"\n",
    "    The CLEAN way: Using returns library's bind operation for monadic chaining\n",
    "    \"\"\"\n",
    "    return (\n",
    "        parse_json(json_data)\n",
    "        .bind(extract_user_id)\n",
    "        .bind(validate_user_id)\n",
    "        .bind(fetch_user_permissions)\n",
    "        .bind(check_write_permission)\n",
    "    )\n",
    "\n",
    "\n",
    "def process_user_request_pipeline(json_data: str) -> Result[bool, str]:\n",
    "    \"\"\"\n",
    "    Alternative clean approach: Using flow and pointfree style\n",
    "    \"\"\"\n",
    "    return flow(\n",
    "        json_data,\n",
    "        parse_json,\n",
    "        bind(extract_user_id),\n",
    "        bind(validate_user_id),\n",
    "        bind(fetch_user_permissions),\n",
    "        bind(check_write_permission),\n",
    "    )"
   ]
  },
  {
   "cell_type": "markdown",
   "metadata": {},
   "source": [
    "## 1. Composing Monads with `returns.do`"
   ]
  },
  {
   "cell_type": "code",
   "execution_count": null,
   "metadata": {},
   "outputs": [],
   "source": [
    "from returns.result import Result\n",
    "\n",
    "\n",
    "# Imagine three functions that can fail:\n",
    "def step1() -> Result[int, str]:\n",
    "    return Success(10)\n",
    "\n",
    "\n",
    "def step2(n: int) -> Result[int, str]:\n",
    "    if n > 5:\n",
    "        return Success(n * 2)\n",
    "    return Failure(\"Step 2 failed: input not > 5\")\n",
    "\n",
    "\n",
    "def step3(n: int) -> Result[str, str]:\n",
    "    return Success(f\"Final result is {n}\")\n",
    "\n",
    "\n",
    "pyramid_result = step1().bind(step2).bind(step3)\n",
    "pyramid_result"
   ]
  },
  {
   "cell_type": "code",
   "execution_count": null,
   "metadata": {},
   "outputs": [],
   "source": [
    "assert isinstance(pyramid_result, Success)\n",
    "assert pyramid_result.unwrap() == \"Final result is 20\"\n",
    "print(\"✅ `.bind()` chain works as expected.\")"
   ]
  },
  {
   "cell_type": "code",
   "execution_count": null,
   "metadata": {},
   "outputs": [],
   "source": [
    "# --- The clean, flat style with `returns.do` ---\n",
    "def do_notation_workflow() -> Result[str, str]:\n",
    "    return Result.do(\n",
    "        res for first in step1() for sec in step2(first) for res in step3(sec)\n",
    "    )\n",
    "\n",
    "\n",
    "do_result = do_notation_workflow()\n",
    "do_result"
   ]
  },
  {
   "cell_type": "code",
   "execution_count": null,
   "metadata": {},
   "outputs": [],
   "source": [
    "assert isinstance(do_result, Success)\n",
    "assert do_result.unwrap() == \"Final result is 20\"\n",
    "assert do_result == pyramid_result  # The results are identical\n",
    "print(\"✅ `returns.do` notation produces the same result cleanly.\")"
   ]
  },
  {
   "cell_type": "markdown",
   "metadata": {},
   "source": [
    "## 2. Collapsing Nested Structures with `sequence`"
   ]
  },
  {
   "cell_type": "markdown",
   "metadata": {},
   "source": [
    "**The Problem:** You have a list of `Result`s (or `Maybe`s), for example, from validating multiple inputs. You want to know if *all* of them were successful. The ideal outcome is to transform `List[Result[A, B]]` into `Result[List[A], B]`. This new structure would be `Success[List[A]]` if all individual results were `Success`, or the *first* `Failure[B]` encountered.\n",
    "\n",
    "**The Solution:** `returns.iterables.sequence` does exactly this. It flips the types around."
   ]
  },
  {
   "cell_type": "code",
   "execution_count": null,
   "metadata": {},
   "outputs": [],
   "source": [
    "from returns.iterables import Fold\n",
    "from returns.result import Result, Success\n",
    "\n",
    "# --- Verification for Success case ---\n",
    "all_success = [Success(1), Success(2), Success(3)]\n",
    "sequenced_success = Fold.collect(all_success, Success(()))\n",
    "\n",
    "print(f\"success sequence: {sequenced_success}\")\n",
    "assert isinstance(sequenced_success, Success)\n",
    "assert sequenced_success.unwrap() == (1, 2, 3)\n",
    "print(\"✅ `sequence` correctly handled a list of all Successes.\")\n",
    "\n",
    "# --- Verification for Failure case ---\n",
    "one_failure = [\n",
    "    Success(1),\n",
    "    Failure(\"Error at item 2\"),\n",
    "    Success(3),  # This is ignored\n",
    "    Failure(\"Error at item 4\"),  # This is also ignored\n",
    "]\n",
    "sequenced_failure = Fold.collect(one_failure, Success(()))\n",
    "\n",
    "print(f\"failure sequence: {sequenced_failure}\")\n",
    "assert isinstance(sequenced_failure, Failure)\n",
    "assert sequenced_failure.failure() == \"Error at item 2\"\n",
    "print(\"✅ `sequence` correctly short-circuited on the first Failure.\")"
   ]
  },
  {
   "cell_type": "markdown",
   "metadata": {},
   "source": [
    "## 3. How to make normal functions work with values in containers"
   ]
  },
  {
   "cell_type": "markdown",
   "metadata": {},
   "source": [
    "**The Problem:** You have a regular, pure function that works on unwrapped values (e.g., `def add(a: int, b: int) -> int`). You also have your values wrapped in a monadic container like `Maybe` (e.g., `Maybe[int]`). How do you apply your pure function to the wrapped values without manually unwrapping them?"
   ]
  },
  {
   "cell_type": "markdown",
   "metadata": {},
   "source": [
    "### `apply` values to curried function"
   ]
  },
  {
   "cell_type": "code",
   "execution_count": null,
   "metadata": {},
   "outputs": [],
   "source": [
    "from returns.curry import curry\n",
    "from returns.maybe import Nothing, Some\n",
    "\n",
    "\n",
    "# A regular, pure function:\n",
    "@curry\n",
    "def add(a: int, b: int) -> int:\n",
    "    return a + b\n",
    "\n",
    "\n",
    "# Our wrapped values:\n",
    "maybe_a = Some(10)\n",
    "maybe_b = Some(5)\n",
    "maybe_c = Nothing\n",
    "\n",
    "result_success = maybe_a.apply(maybe_b.apply(Some(add)))\n",
    "result_success"
   ]
  },
  {
   "cell_type": "code",
   "execution_count": null,
   "metadata": {},
   "outputs": [],
   "source": [
    "result_success = flow(\n",
    "    Some(add), lambda _sum: maybe_a.apply(_sum), lambda _sum: maybe_b.apply(_sum)\n",
    ")\n",
    "result_success"
   ]
  },
  {
   "cell_type": "code",
   "execution_count": null,
   "metadata": {},
   "outputs": [],
   "source": [
    "from returns.curry import curry\n",
    "from returns.io import IO\n",
    "from returns.pipeline import flow\n",
    "from returns.pointfree import apply\n",
    "\n",
    "\n",
    "@curry\n",
    "def flip(f, a, b):\n",
    "    return f(b)(a)\n",
    "\n",
    "\n",
    "rev_apply = flip(apply)\n",
    "\n",
    "\n",
    "@curry\n",
    "def sum(a: int, b: int, c: int) -> int:\n",
    "    return a + b + c\n",
    "\n",
    "\n",
    "def fetch_balance() -> IO[int]:\n",
    "    return IO(10)\n",
    "\n",
    "\n",
    "def fetch_discount() -> IO[int]:\n",
    "    return IO(-5)\n",
    "\n",
    "\n",
    "def fetch_price() -> IO[int]:\n",
    "    return IO(1)\n",
    "\n",
    "\n",
    "# Pipeline mit flow und pointfree.apply + flip (ohne Lambdas)\n",
    "result = flow(\n",
    "    IO(sum),\n",
    "    rev_apply(fetch_balance()),\n",
    "    rev_apply(fetch_price()),\n",
    "    rev_apply(fetch_discount()),\n",
    ")\n",
    "result"
   ]
  },
  {
   "cell_type": "code",
   "execution_count": null,
   "metadata": {},
   "outputs": [],
   "source": [
    "from returns import pointfree as p\n",
    "\n",
    "result_success = flow(Some(add), p.apply())\n",
    "result_success"
   ]
  },
  {
   "cell_type": "code",
   "execution_count": null,
   "metadata": {},
   "outputs": [],
   "source": [
    "# --- Verification for Success case ---\n",
    "assert isinstance(result_success, Some)\n",
    "assert result_success.unwrap() == 15\n",
    "print(f\"✅ Lifted function correctly produced {result_success}\")"
   ]
  },
  {
   "cell_type": "code",
   "execution_count": null,
   "metadata": {},
   "outputs": [],
   "source": [
    "# --- Verification for Failure case (if one of the inputs is Nothing) ---\n",
    "result_failure = maybe_a.apply(maybe_c.apply(Some(add)))\n",
    "result_failure"
   ]
  },
  {
   "cell_type": "code",
   "execution_count": null,
   "metadata": {},
   "outputs": [],
   "source": [
    "assert result_failure.value_or(\"nothing\") == \"nothing\"\n",
    "print(\n",
    "    f\"✅ Lifted function correctly produced {result_failure} when one input was Nothing.\"\n",
    ")"
   ]
  },
  {
   "cell_type": "markdown",
   "metadata": {},
   "source": [
    "### `apply` values as a chain"
   ]
  },
  {
   "cell_type": "code",
   "execution_count": null,
   "metadata": {},
   "outputs": [],
   "source": [
    "from returns.maybe import Maybe\n",
    "\n",
    "result_success = Maybe(add).apply(maybe_a).apply(maybe_b)\n",
    "result_success"
   ]
  },
  {
   "cell_type": "code",
   "execution_count": null,
   "metadata": {},
   "outputs": [],
   "source": [
    "from returns.curry import curry\n",
    "from returns.io import IO\n",
    "\n",
    "\n",
    "@curry\n",
    "def sum_two_numbers(first: int, second: int) -> int:\n",
    "    return first + second\n",
    "\n",
    "\n",
    "one = IO(1)\n",
    "two = IO(2)\n",
    "assert IO(sum_two_numbers).apply(one).apply(two) == IO(3)"
   ]
  }
 ],
 "metadata": {
  "kernelspec": {
   "display_name": "py-starter",
   "language": "python",
   "name": "python3"
  },
  "language_info": {
   "codemirror_mode": {
    "name": "ipython",
    "version": 3
   },
   "file_extension": ".py",
   "mimetype": "text/x-python",
   "name": "python",
   "nbconvert_exporter": "python",
   "pygments_lexer": "ipython3",
   "version": "3.12.11"
  }
 },
 "nbformat": 4,
 "nbformat_minor": 2
}
