{
 "cells": [
  {
   "cell_type": "markdown",
   "metadata": {},
   "source": [
    "# Functional Patterns: A Python \"Ramda\" Cookbook"
   ]
  },
  {
   "cell_type": "markdown",
   "metadata": {},
   "source": [
    "This notebook explores functional programming patterns for common data manipulation tasks, particularly for those coming from a JavaScript/TypeScript background with experience using libraries like Ramda or Lodash.\n",
    "\n",
    "Python's functional capabilities are often built directly into the language or provided by libraries like `returns`. We'll explore how to achieve the same declarative style in a way that is idiomatic to Python."
   ]
  },
  {
   "cell_type": "markdown",
   "metadata": {},
   "source": [
    "## 1. Declarative Iteration: `map`, `filter`, and Comprehensions"
   ]
  },
  {
   "cell_type": "markdown",
   "metadata": {},
   "source": [
    "A core tenet of functional programming is to express *what* you want to do, not *how* you want to do it. Instead of writing imperative `for` loops, we use declarative approaches like `map` and `filter`.\n",
    "\n",
    "### Style 1: Pipeline-based (Ramda-like)\n",
    "\n",
    "Using `returns.pipe` with `map` and `filter` feels very similar to Ramda's `R.pipe`. This style is excellent for long chains of transformations."
   ]
  },
  {
   "cell_type": "code",
   "execution_count": null,
   "metadata": {},
   "outputs": [],
   "source": [
    "from returns.pipeline import pipe\n",
    "\n",
    "numbers = [1, 2, 3, 4, 5, 6]\n",
    "\n",
    "# Goal: Take the even numbers, square them, and get a list of the results.\n",
    "\n",
    "result_pipe = pipe(\n",
    "    lambda nums: filter(lambda x: x % 2 == 0, nums),\n",
    "    lambda evens: map(lambda x: x * x, evens),\n",
    "    list,  # Materialize the iterators into a list\n",
    ")(numbers)\n",
    "\n",
    "# --- Verification ---\n",
    "assert result_pipe == [4, 16, 36]\n",
    "print(f\"✅ Pipeline correctly transformed the list to {result_pipe}\")"
   ]
  },
  {
   "cell_type": "markdown",
   "metadata": {},
   "source": [
    "### Style 2: List Comprehensions (The \"Pythonic\" Way)\n",
    "\n",
    "For many simple to moderately complex cases, a list comprehension is often considered more readable and idiomatic in Python. It combines the `map` and `filter` operations into a single, expressive statement."
   ]
  },
  {
   "cell_type": "code",
   "execution_count": null,
   "metadata": {},
   "outputs": [],
   "source": [
    "numbers = [1, 2, 3, 4, 5, 6]\n",
    "\n",
    "# The same goal, achieved with a list comprehension:\n",
    "result_comprehension = [x * x for x in numbers if x % 2 == 0]\n",
    "\n",
    "# --- Verification ---\n",
    "assert result_comprehension == [4, 16, 36]\n",
    "print(f\"✅ List comprehension correctly transformed the list to {result_comprehension}\")"
   ]
  },
  {
   "cell_type": "markdown",
   "metadata": {},
   "source": [
    "## 2. Currying & Partial Application"
   ]
  },
  {
   "cell_type": "markdown",
   "metadata": {},
   "source": [
    "Currying is the process of transforming a function that takes multiple arguments into a sequence of functions that each take a single argument. This is incredibly useful for creating specialized functions from more general ones.\n",
    "\n",
    "The `returns` library provides a `@curry` decorator that makes this easy. A best practice when designing functions for currying is to put the \"data\" argument last."
   ]
  },
  {
   "cell_type": "code",
   "execution_count": null,
   "metadata": {},
   "outputs": [],
   "source": [
    "from returns.curry import curry\n",
    "\n",
    "\n",
    "@curry\n",
    "def add(x: int, y: int) -> int:\n",
    "    return x + y\n",
    "\n",
    "\n",
    "# --- Verification ---\n",
    "\n",
    "# 1. Call it normally\n",
    "assert add(3, 4) == 7\n",
    "\n",
    "# 2. Create a specialized function by partially applying the first argument\n",
    "add_five = add(5)\n",
    "assert callable(add_five)  # It's a new function!\n",
    "\n",
    "# 3. Call the specialized function\n",
    "assert add_five(10) == 15\n",
    "assert add_five(20) == 25\n",
    "\n",
    "print(\"✅ Currying works as expected, creating specialized functions.\")"
   ]
  },
  {
   "cell_type": "markdown",
   "metadata": {},
   "source": [
    "## 3. Logical Operations: `allPass` / `anyPass`"
   ]
  },
  {
   "cell_type": "markdown",
   "metadata": {},
   "source": [
    "Ramda provides useful functions like `allPass` (returns `True` if a value satisfies all predicates) and `anyPass` (returns `True` if it satisfies any). We can easily create these helpers in Python.\n",
    "\n",
    "This demonstrates a key principle: when a helper function is missing, write a small, pure, and reusable function yourself."
   ]
  },
  {
   "cell_type": "code",
   "execution_count": null,
   "metadata": {},
   "outputs": [],
   "source": [
    "from collections.abc import Callable\n",
    "from typing import TypeVar\n",
    "\n",
    "T = TypeVar(\"T\")\n",
    "Predicate = Callable[[T], bool]\n",
    "\n",
    "\n",
    "def all_pass[T](predicates: list[Predicate[T]]) -> Predicate[T]:\n",
    "    \"\"\"Creates a new function that checks if a value passes all predicates.\"\"\"\n",
    "\n",
    "    def checker(value: T) -> bool:\n",
    "        return all(p(value) for p in predicates)\n",
    "\n",
    "    return checker\n",
    "\n",
    "\n",
    "# --- Verification ---\n",
    "\n",
    "\n",
    "# Define some predicates for checking a number\n",
    "def is_even(x: int) -> bool:\n",
    "    return x % 2 == 0\n",
    "\n",
    "\n",
    "def is_positive(x: int) -> bool:\n",
    "    return x > 0\n",
    "\n",
    "\n",
    "def is_less_than_100(x: int) -> bool:\n",
    "    return x < 100\n",
    "\n",
    "\n",
    "# Create a combined validator\n",
    "is_valid_number = all_pass([is_even, is_positive, is_less_than_100])\n",
    "\n",
    "# Test cases\n",
    "assert is_valid_number(10)\n",
    "assert not is_valid_number(11)\n",
    "assert not is_valid_number(-2)\n",
    "assert not is_valid_number(102)\n",
    "\n",
    "print(\"✅ `all_pass` helper correctly combines predicates.\")"
   ]
  }
 ],
 "metadata": {
  "kernelspec": {
   "display_name": "Python 3",
   "language": "python",
   "name": "python3"
  },
  "language_info": {
   "name": "python",
   "version": "3.12.0"
  }
 },
 "nbformat": 4,
 "nbformat_minor": 2
}
