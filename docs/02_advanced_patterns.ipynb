{
 "cells": [
  {
   "cell_type": "markdown",
   "metadata": {},
   "source": [
    "# Advanced Patterns: The \"Toolbox for Special Cases\""
   ]
  },
  {
   "cell_type": "markdown",
   "metadata": {},
   "source": [
    "This notebook covers powerful, specialized tools that are available in the blueprint. You don't need them for every task, but they are invaluable for solving specific, complex problems in a clean, functional way.\n",
    "\n",
    "1.  **Dependency Inversion with `Protocols`**: How to write testable code that doesn't depend on concrete implementations.\n",
    "2.  **Guaranteed Immutability with `pyrsistent`**: When to use it for robust state management.\n",
    "\n",
    "Like the core concepts notebook, every code cell is a **self-verifying example**."
   ]
  },
  {
   "cell_type": "markdown",
   "metadata": {},
   "source": [
    "## 1. Dependency Inversion with `Protocols`"
   ]
  },
  {
   "cell_type": "markdown",
   "metadata": {},
   "source": [
    "**Best Practice:** Our core business logic should not depend on concrete external systems like a specific database or API client. Instead, it should depend on an abstraction, a \"contract\". In Python, `typing.Protocol` is the perfect tool for defining these contracts.\n",
    "\n",
    "**Why?** This decouples our core logic from the outside world. It makes our code:\n",
    "- **Testable:** We can easily create a \"mock\" or \"fake\" implementation of the protocol for our tests.\n",
    "- **Flexible:** We can swap out the real implementation (e.g., move from a PostgreSQL database to a REST API) without changing a single line of our core logic."
   ]
  },
  {
   "cell_type": "code",
   "execution_count": null,
   "metadata": {},
   "outputs": [],
   "source": [
    "from typing import Protocol, TypeVar\n",
    "\n",
    "T = TypeVar('T')\n",
    "\n",
    "# 1. Define the contract (the Protocol)\n",
    "class DataStore(Protocol[T]):\n",
    "    \"\"\"A contract for any object that can save and load data.\"\"\"\n",
    "    def save(self, data: T) -> None:\n",
    "        ...\n",
    "    \n",
    "    def load(self) -> T | None:\n",
    "        ...\n",
    "\n",
    "# 2. Write core logic that depends on the abstraction\n",
    "def process_and_save_data(store: DataStore[str], raw_data: str) -> str:\n",
    "    \"\"\"This function doesn't know or care what kind of store it's using.\"\"\"\n",
    "    processed_data = raw_data.strip().upper()\n",
    "    store.save(processed_data)\n",
    "    return processed_data\n",
    "\n",
    "# 3. Create a concrete implementation for testing (a \"fake\" or \"mock\")\n",
    "class InMemoryStore(DataStore[str]):\n",
    "    \"\"\"A test-double that fulfills the DataStore contract in memory.\"\"\"\n",
    "    def __init__(self):
",
    "        self._data: str | None = None\n",
    "    \n",
    "    def save(self, data: str) -> None:\n",
    "        self._data = data\n",
    "    \n",
    "    def load(self) -> str | None:\n",
    "        return self._data\n",
    "\n",
    "# --- Verification ---" 
    "fake_store = InMemoryStore()\n",
    "result = process_and_save_data(fake_store, \"  hello world  \")\n",
    "\n",
    "# Assert that the core logic worked correctly\n",